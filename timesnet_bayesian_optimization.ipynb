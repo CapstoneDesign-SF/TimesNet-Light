{
 "cells": [
  {
   "metadata": {},
   "cell_type": "markdown",
   "source": "bayesian-optimization 설치 필요",
   "id": "a0253ef277f8bc40"
  },
  {
   "metadata": {
    "ExecuteTime": {
     "end_time": "2024-05-29T12:07:34.348213Z",
     "start_time": "2024-05-29T12:07:30.871256Z"
    }
   },
   "cell_type": "code",
   "source": "# !pip install -q bayesian-optimization",
   "id": "5d43130808041237",
   "outputs": [],
   "execution_count": 1
  },
  {
   "metadata": {},
   "cell_type": "markdown",
   "source": [
    "### Load Data\n",
    "- PSM\n",
    "    * eBay의 여러 애플리케이션 서버 노드에서 내부적으로 21주 동안 수집\n",
    "    * 25개의 센서로 수집한 다변량 시계열 데이터\n",
    "    * 훈련: 13주, 테스트 8주\n",
    "- 원본의 PSM 데이터셋에서 결측치 제거, numpy array 형태로 저장"
   ],
   "id": "7b364641ee250fa3"
  },
  {
   "cell_type": "code",
   "id": "initial_id",
   "metadata": {
    "collapsed": true,
    "ExecuteTime": {
     "end_time": "2024-05-29T12:08:01.860095Z",
     "start_time": "2024-05-29T12:08:01.826753Z"
    }
   },
   "source": [
    "import numpy as np\n",
    "\n",
    "X_train = np.load('PSM/X_train.npy')\n",
    "X_test = np.load('PSM/X_test.npy')\n",
    "labels = np.load('PSM/labels.npy')\n",
    "\n",
    "print(X_train.shape)\n",
    "print(X_test.shape)\n",
    "print(labels.shape)"
   ],
   "outputs": [
    {
     "name": "stdout",
     "output_type": "stream",
     "text": [
      "(129784, 25)\n",
      "(87841, 25)\n",
      "(87841,)\n"
     ]
    }
   ],
   "execution_count": 3
  },
  {
   "metadata": {
    "ExecuteTime": {
     "end_time": "2024-05-29T12:08:32.476881Z",
     "start_time": "2024-05-29T12:08:27.864131Z"
    }
   },
   "cell_type": "code",
   "source": [
    "import torch\n",
    "\n",
    "device = 'cuda' if torch.cuda.is_available() else 'cpu'\n",
    "device"
   ],
   "id": "8aa383a9f993130e",
   "outputs": [
    {
     "data": {
      "text/plain": [
       "'cpu'"
      ]
     },
     "execution_count": 4,
     "metadata": {},
     "output_type": "execute_result"
    }
   ],
   "execution_count": 4
  },
  {
   "metadata": {},
   "cell_type": "markdown",
   "source": [
    "### 모델 정의\n",
    "- 하이퍼파라미터 num_kernels를 최소화하는 것이 목적\n",
    "- 초기 num_kernels는 6으로 설정됨에 따라 6개의 Convolution Layer을 사용하고, 각각 크기가 1x1, 3x3, 5x5, 7x7, 9x9, 11x11, 13x13인 kernel 사용"
   ],
   "id": "28d57632b82a8493"
  },
  {
   "metadata": {
    "ExecuteTime": {
     "end_time": "2024-05-29T12:25:08.989328Z",
     "start_time": "2024-05-29T12:25:08.959907Z"
    }
   },
   "cell_type": "code",
   "source": [
    "from timesnet.timesnet import TimesNet\n",
    "\n",
    "clf = TimesNet(seq_len=100,\n",
    "                 stride=1,\n",
    "                 lr=0.0001,\n",
    "                 epochs=10,\n",
    "                 batch_size=128,\n",
    "                 epoch_steps=20,\n",
    "                 prt_steps=1,\n",
    "                 device=device,\n",
    "                 pred_len=0,\n",
    "                 e_layers=2,\n",
    "                 d_model=64,\n",
    "                 d_ff=64,\n",
    "                 dropout=0.1,\n",
    "                 top_k=3,\n",
    "                 num_kernels=6, # target\n",
    "                 verbose=2,\n",
    "                 random_state=42)"
   ],
   "id": "65681867f7cd8c0a",
   "outputs": [],
   "execution_count": 9
  },
  {
   "metadata": {},
   "cell_type": "markdown",
   "source": [
    "### 베이지안 최적화\n",
    "- 모델을 학습하는 런타임 중에 하이퍼파라미터를 튜닝\n",
    "- 목적 함수: θ, n = argmax(AUC(y, ϕ(θ)) - αn)\n",
    "- $\\theta, n = argmax(AUC(y, \\phi(\\theta)) - \\alpha n)$\n",
    "- <img src=\"./objective_function.png\" width=\"400\">\n",
    "- 어떤 형식이 예쁠까요?"
   ],
   "id": "dc8a6085cee89164"
  },
  {
   "metadata": {},
   "cell_type": "code",
   "outputs": [],
   "execution_count": null,
   "source": [
    "from bayes_opt import BayesianOptimization\n",
    "from metrics import auc_score\n",
    "\n",
    "def objective_function(num_kernels):\n",
    "    clf.num_kernels = int(num_kernels)\n",
    "    clf.fit(X_train)\n",
    "    scores = clf.decision_function(X_test)\n",
    "    roc_auc = auc_score(labels, scores)\n",
    "    return roc_auc-0.01*int(num_kernels)\n",
    "\n",
    "pbounds = {'num_kernels':(1, 6)}\n",
    "optimizer = BayesianOptimization(\n",
    "    f=objective_function,\n",
    "    pbounds=pbounds,\n",
    "    verbose=2,\n",
    "    random_state=42\n",
    ")\n",
    "\n",
    "optimizer.maximize(init_points=3, n_iter=3)\n",
    "\n",
    "print(\"최적의 커널 개수:\", optimizer.max['params'])\n",
    "print(\"최적의 목적 함수 값:\", optimizer.max['target'])"
   ],
   "id": "fcc00d0d69537dc4"
  },
  {
   "metadata": {},
   "cell_type": "code",
   "outputs": [],
   "execution_count": null,
   "source": [
    "best_num_kernels = int(optimizer.max['params']['num_kernels'])\n",
    "\n",
    "best_clf = TimesNet(seq_len=100,\n",
    "                 stride=1,\n",
    "                 lr=0.0001,\n",
    "                 epochs=10,\n",
    "                 batch_size=128,\n",
    "                 epoch_steps=20,\n",
    "                 prt_steps=1,\n",
    "                 device=device,\n",
    "                 pred_len=0,\n",
    "                 e_layers=2,\n",
    "                 d_model=64,\n",
    "                 d_ff=64,\n",
    "                 dropout=0.1,\n",
    "                 top_k=3,\n",
    "                 num_kernels=best_num_kernels, # target\n",
    "                 verbose=2,\n",
    "                 random_state=42)\n",
    "\n",
    "# 최적의 하이퍼파라미터로 모델 학습\n",
    "best_clf.fit(X_train)"
   ],
   "id": "d3cdc395598d6938"
  },
  {
   "metadata": {},
   "cell_type": "markdown",
   "source": "### 테스트",
   "id": "f4ab0f8c28bc1a62"
  },
  {
   "metadata": {},
   "cell_type": "code",
   "outputs": [],
   "execution_count": null,
   "source": [
    "def get_model_size(model):\n",
    "    size_model = 0\n",
    "    for param in best_clf.net.parameters():\n",
    "        if param.data.is_floating_point():\n",
    "            size_model += param.numel() * torch.finfo(param.data.dtype).bits\n",
    "        else:\n",
    "            size_model += param.numel() * torch.iinfo(param.data.dtype).bits\n",
    "    print(f\"model size: {size_model} / bit | {size_model / 8e6:.2f} / MB\")\n",
    "    \n",
    "    return"
   ],
   "id": "5ade5b9a2c684928"
  },
  {
   "metadata": {},
   "cell_type": "code",
   "outputs": [],
   "execution_count": null,
   "source": [
    "from metrics import ts_metrics, point_adjustment\n",
    "\n",
    "scores = best_clf.decision_function(X_test)\n",
    "\n",
    "eval_metrics = ts_metrics(labels, scores)\n",
    "adj_eval_metrics = ts_metrics(labels, point_adjustment(labels, scores))\n",
    "\n",
    "print(f\"kernel : {best_clf.num_kernels}\")\n",
    "print(eval_metrics)\n",
    "print(adj_eval_metrics) # point adjustment 실행 후 AUC score, Precision-Recall score, f1, precision, recall\n",
    "get_model_size(best_clf.net)"
   ],
   "id": "49d97e8e154596af"
  }
 ],
 "metadata": {
  "kernelspec": {
   "display_name": "Python 3",
   "language": "python",
   "name": "python3"
  },
  "language_info": {
   "codemirror_mode": {
    "name": "ipython",
    "version": 2
   },
   "file_extension": ".py",
   "mimetype": "text/x-python",
   "name": "python",
   "nbconvert_exporter": "python",
   "pygments_lexer": "ipython2",
   "version": "2.7.6"
  }
 },
 "nbformat": 4,
 "nbformat_minor": 5
}
